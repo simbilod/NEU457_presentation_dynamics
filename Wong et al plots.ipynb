{
 "cells": [
  {
   "cell_type": "markdown",
   "metadata": {},
   "source": [
    "# NEU 437 Wong et al.\n",
    "\n",
    "References :\n",
    "* http://be150.caltech.edu/2017/handouts/dynamical_systems_approaches.html\n",
    "* https://github.com/sukhbinder/intersection\n",
    "* https://matplotlib.org/3.1.1/gallery/widgets/slider_demo.html"
   ]
  },
  {
   "cell_type": "code",
   "execution_count": 19,
   "metadata": {},
   "outputs": [],
   "source": [
    "# Math\n",
    "import numpy as np\n",
    "import scipy.integrate\n",
    "import scipy.optimize\n",
    "# Plotting\n",
    "import matplotlib.pyplot as plt\n",
    "import seaborn as sns\n",
    "%matplotlib inline"
   ]
  },
  {
   "cell_type": "markdown",
   "metadata": {},
   "source": [
    "System to be solved (Appendix A in paper) :\n",
    "\n",
    "<img src=\"equations.PNG\" alt=\"Drawing\" style=\"width: 400px;\"/>\n",
    "\n",
    "with values :"
   ]
  },
  {
   "cell_type": "code",
   "execution_count": 20,
   "metadata": {},
   "outputs": [],
   "source": [
    "a = 270 # (VnC)^-1\n",
    "b = 108 # Hz\n",
    "d = 0.154 # s\n",
    "gamma = 0.641 # (unitless)\n",
    "tau_s = 100E-3 # s\n",
    "w = 1.59 # base value\n",
    "J_N11 = 0.2609 # nA ADDED W HERE TO SIMULATE INCREASED SELF-ACTIVITY\n",
    "J_N22 = J_N11\n",
    "J_N12 = 0.0497 # nA\n",
    "J_N21 = J_N12\n",
    "J_Aext = 5.2E-4 # nA/Hz\n",
    "I0 = 0.3255 # nA\n",
    "mu0 = 30 # Hz\n",
    "c = 0"
   ]
  },
  {
   "cell_type": "code",
   "execution_count": 21,
   "metadata": {},
   "outputs": [],
   "source": [
    "def I1(J_Aext, mu0, c):\n",
    "    \"Input current 1\"\n",
    "    return J_Aext*mu0*(1 + c/100)\n",
    "\n",
    "def I2(J_Aext, mu0, c):\n",
    "    \"Input current 2\"\n",
    "    return J_Aext*mu0*(1 - c/100)\n",
    "\n",
    "def x(Jnn, Sn, Jnm, Sm, I0, In):\n",
    "    \"Change-of-variables\"\n",
    "    return Jnn*Sn - Jnm*Sm + I0 + In\n",
    "\n",
    "def H(a, b, x):\n",
    "    \"\"\"Transfer function\"\"\"\n",
    "    return (a*x-b)/(1 - np.exp(-d*(a*x-b)))\n",
    "\n",
    "def toggle(variables, t, tau_s, gamma, a, b, J_N11, J_N12, J_N21, J_N22, I0, J_Aext, mu0, c):\n",
    "    \"\"\"Right hand side for toggle ODEs.\"\"\"\n",
    "    S1, S2 = variables\n",
    "    x1 = x(J_N11, S1, J_N12, S2, I0, I1(J_Aext, mu0, c))\n",
    "    x2 = x(J_N22, S2, J_N21, S1, I0, I2(J_Aext, mu0, c))\n",
    "    return np.array([-S1/tau_s + (1-S1)*gamma*H(a, b, x1),\n",
    "                     -S2/tau_s + (1-S2)*gamma*H(a, b, x2) ])"
   ]
  },
  {
   "cell_type": "code",
   "execution_count": 22,
   "metadata": {},
   "outputs": [
    {
     "data": {
      "text/plain": [
       "Text(0.5, 1.0, 'Temporal evolution (S2 initially higher)')"
      ]
     },
     "execution_count": 22,
     "metadata": {},
     "output_type": "execute_result"
    },
    {
     "data": {
      "image/png": "[encoded data removed]",
      "text/plain": [
       "<Figure size 432x288 with 1 Axes>"
      ]
     },
     "metadata": {
      "needs_background": "light"
     },
     "output_type": "display_data"
    }
   ],
   "source": [
    "args = (tau_s, gamma, a, b, w/1.59*J_N11, J_N12, J_N21, w/1.59*J_N22, I0, J_Aext, mu0, c)\n",
    "\n",
    "# Initial condition\n",
    "ab0 = np.array([0, 0.01])\n",
    "\n",
    "# Solve\n",
    "t = np.linspace(0, 2,200)\n",
    "variables = scipy.integrate.odeint(toggle, ab0, t, args=args)\n",
    "\n",
    "# Plot\n",
    "plt.plot(t, variables)\n",
    "plt.xlabel('t (s)')\n",
    "plt.ylabel('S')\n",
    "plt.legend(('S1', 'S2'));\n",
    "plt.title(\"Temporal evolution (S2 initially higher)\")"
   ]
  },
  {
   "cell_type": "code",
   "execution_count": 23,
   "metadata": {},
   "outputs": [
    {
     "data": {
      "text/plain": [
       "Text(0, 0.5, 'S2')"
      ]
     },
     "execution_count": 23,
     "metadata": {},
     "output_type": "execute_result"
    },
    {
     "data": {
      "image/png": "[encoded data removed]",
      "text/plain": [
       "<Figure size 432x288 with 1 Axes>"
      ]
     },
     "metadata": {
      "needs_background": "light"
     },
     "output_type": "display_data"
    }
   ],
   "source": [
    "# Plot\n",
    "plt.plot(variables[:,0], variables[:,1], color='gray')\n",
    "plt.xlim([0,1])\n",
    "plt.ylim([0,1])\n",
    "plt.xlabel('S1')\n",
    "plt.ylabel('S2')"
   ]
  },
  {
   "cell_type": "code",
   "execution_count": 24,
   "metadata": {},
   "outputs": [],
   "source": [
    "def plot_flow_field(ax, f, u_range, v_range, args=(), n_grid=100):\n",
    "    \"\"\"\n",
    "    Plots the flow field with line thickness proportional to speed.\n",
    "    \n",
    "    Parameters\n",
    "    ----------\n",
    "    ax : Matplotlib Axis instance\n",
    "        Axis on which to make the plot\n",
    "    f : function for form f(y, t, *args)\n",
    "        The right-hand-side of the dynamical system.\n",
    "        Must return a 2-array.\n",
    "    u_range : array_like, shape (2,)\n",
    "        Range of values for u-axis.\n",
    "    v_range : array_like, shape (2,)\n",
    "        Range of values for v-axis.\n",
    "    args : tuple, default ()\n",
    "        Additional arguments to be passed to f\n",
    "    n_grid : int, default 100\n",
    "        Number of grid points to use in computing\n",
    "        derivatives on phase portrait.\n",
    "        \n",
    "    Returns\n",
    "    -------\n",
    "    output : Matplotlib Axis instance\n",
    "        Axis with streamplot included.\n",
    "    \"\"\"\n",
    "        \n",
    "    # Set up u,v space\n",
    "    u = np.linspace(u_range[0], u_range[1], n_grid)\n",
    "    v = np.linspace(v_range[0], v_range[1], n_grid)\n",
    "    uu, vv = np.meshgrid(u, v)\n",
    "\n",
    "    # Compute derivatives\n",
    "    u_vel = np.empty_like(uu)\n",
    "    v_vel = np.empty_like(vv)\n",
    "    for i in range(uu.shape[0]):\n",
    "        for j in range(uu.shape[1]):\n",
    "            u_vel[i,j], v_vel[i,j] = f(np.array([uu[i,j], vv[i,j]]), None, *args)\n",
    "\n",
    "    # Compute speed\n",
    "    speed = np.sqrt(u_vel**2 + v_vel**2)\n",
    "\n",
    "    # Make linewidths proportional to speed,\n",
    "    # with minimal line width of 0.5 and max of 3\n",
    "    lw = 0.5 + 2.5 * speed / speed.max()\n",
    "\n",
    "    # Make stream plot\n",
    "    ax.streamplot(uu, vv, u_vel, v_vel, linewidth=lw, arrowsize=1.2, \n",
    "                  density=1, color='thistle')\n",
    "\n",
    "    return ax"
   ]
  },
  {
   "cell_type": "code",
   "execution_count": 25,
   "metadata": {},
   "outputs": [],
   "source": [
    "def _rect_inter_inner(x1,x2):\n",
    "    n1=x1.shape[0]-1\n",
    "    n2=x2.shape[0]-1\n",
    "    X1=np.c_[x1[:-1],x1[1:]]\n",
    "    X2=np.c_[x2[:-1],x2[1:]]\n",
    "    S1=np.tile(X1.min(axis=1),(n2,1)).T\n",
    "    S2=np.tile(X2.max(axis=1),(n1,1))\n",
    "    S3=np.tile(X1.max(axis=1),(n2,1)).T\n",
    "    S4=np.tile(X2.min(axis=1),(n1,1))\n",
    "    return S1,S2,S3,S4\n",
    "\n",
    "def _rectangle_intersection_(x1,y1,x2,y2):\n",
    "    S1,S2,S3,S4=_rect_inter_inner(x1,x2)\n",
    "    S5,S6,S7,S8=_rect_inter_inner(y1,y2)\n",
    "\n",
    "    C1=np.less_equal(S1,S2)\n",
    "    C2=np.greater_equal(S3,S4)\n",
    "    C3=np.less_equal(S5,S6)\n",
    "    C4=np.greater_equal(S7,S8)\n",
    "\n",
    "    ii,jj=np.nonzero(C1 & C2 & C3 & C4)\n",
    "    return ii,jj\n",
    "\n",
    "def intersection(x1,y1,x2,y2):\n",
    "    \"\"\"\n",
    "INTERSECTIONS Intersections of curves.\n",
    "   Computes the (x,y) locations where two curves intersect.  The curves\n",
    "   can be broken with NaNs or have vertical segments.\n",
    "usage:\n",
    "x,y=intersection(x1,y1,x2,y2)\n",
    "    Example:\n",
    "    a, b = 1, 2\n",
    "    phi = np.linspace(3, 10, 100)\n",
    "    x1 = a*phi - b*np.sin(phi)\n",
    "    y1 = a - b*np.cos(phi)\n",
    "    x2=phi\n",
    "    y2=np.sin(phi)+2\n",
    "    x,y=intersection(x1,y1,x2,y2)\n",
    "    plt.plot(x1,y1,c='r')\n",
    "    plt.plot(x2,y2,c='g')\n",
    "    plt.plot(x,y,'*k')\n",
    "    plt.show()\n",
    "    \"\"\"\n",
    "    ii,jj=_rectangle_intersection_(x1,y1,x2,y2)\n",
    "    n=len(ii)\n",
    "\n",
    "    dxy1=np.diff(np.c_[x1,y1],axis=0)\n",
    "    dxy2=np.diff(np.c_[x2,y2],axis=0)\n",
    "\n",
    "    T=np.zeros((4,n))\n",
    "    AA=np.zeros((4,4,n))\n",
    "    AA[0:2,2,:]=-1\n",
    "    AA[2:4,3,:]=-1\n",
    "    AA[0::2,0,:]=dxy1[ii,:].T\n",
    "    AA[1::2,1,:]=dxy2[jj,:].T\n",
    "\n",
    "    BB=np.zeros((4,n))\n",
    "    BB[0,:]=-x1[ii].ravel()\n",
    "    BB[1,:]=-x2[jj].ravel()\n",
    "    BB[2,:]=-y1[ii].ravel()\n",
    "    BB[3,:]=-y2[jj].ravel()\n",
    "\n",
    "    for i in range(n):\n",
    "        try:\n",
    "            T[:,i]=np.linalg.solve(AA[:,:,i],BB[:,i])\n",
    "        except:\n",
    "            T[:,i]=np.NaN\n",
    "\n",
    "\n",
    "    in_range= (T[0,:] >=0) & (T[1,:] >=0) & (T[0,:] <=1) & (T[1,:] <=1)\n",
    "\n",
    "    xy0=T[2:,in_range]\n",
    "    xy0=xy0.T\n",
    "    return xy0[:,0],xy0[:,1]\n",
    "\n",
    "def plot_null_clines_toggle(ax, S1_range, S2_range, args, \n",
    "                            colors=['#1f77b4', '#1f77b4'], lw=3):\n",
    "    \"\"\"Add nullclines to ax.\"\"\"\n",
    "        \n",
    "    (X,Y) = np.meshgrid(np.linspace(S1_range[0], S1_range[1], 100),\n",
    "                        np.linspace(S2_range[0], S2_range[1], 100) )\n",
    "    tau_s, gamma, a, b, J_N11, J_N12, J_N21, J_N22, I0, J_Aext, mu0, c = args\n",
    "    \n",
    "    x1 = x(J_N11, X, J_N12, Y, I0, I1(J_Aext, mu0, c))\n",
    "    nullcline_S1 = -X/tau_s + (1-X)*gamma*H(a, b, x1)\n",
    "    \n",
    "    x2 = x(J_N22, Y, J_N21, X, I0, I2(J_Aext, mu0, c))\n",
    "    nullcline_S2 = -Y/tau_s + (1-Y)*gamma*H(a, b, x2)\n",
    "\n",
    "    # Plot nullcline S1\n",
    "    cs = ax.contour(X, Y, nullcline_S1, 0, lw=lw, color=colors[0])\n",
    "    # Report nullcline S1\n",
    "    p = cs.collections[1].get_paths()[0]\n",
    "    v = p.vertices\n",
    "    nullcline_S1_S1 = v[:,0]\n",
    "    nullcline_S1_S2 = v[:,1]\n",
    "    \n",
    "    # Plot nullcline S2\n",
    "    cs = ax.contour(X, Y, nullcline_S2, 0, lw=lw, color=colors[1])\n",
    "    # Report nullcline S2\n",
    "    p = cs.collections[1].get_paths()[0]\n",
    "    v = p.vertices\n",
    "    nullcline_S2_S1 = v[:,0]\n",
    "    nullcline_S2_S2 = v[:,1] \n",
    "    \n",
    "    # Find fixed points\n",
    "    fp_S1, fp_S2 = intersection(nullcline_S1_S1, nullcline_S1_S2,\n",
    "                              nullcline_S2_S1, nullcline_S2_S2)\n",
    "    ax.plot(fp_S1, fp_S2, \"o\", markersize=6, markeredgecolor='k', markerfacecolor='k')\n",
    "    \n",
    "    return ax"
   ]
  },
  {
   "cell_type": "code",
   "execution_count": 26,
   "metadata": {},
   "outputs": [],
   "source": [
    "def plot_traj(ax, f, y0, t, args=(), color='black', lw=2):\n",
    "    \"\"\"\n",
    "    Plots a trajectory on a phase portrait.\n",
    "    \n",
    "    Parameters\n",
    "    ----------\n",
    "    ax : Matplotlib Axis instance\n",
    "        Axis on which to make the plot\n",
    "    f : function for form f(y, t, *args)\n",
    "        The right-hand-side of the dynamical system.\n",
    "        Must return a 2-array.\n",
    "    y0 : array_like, shape (2,)\n",
    "        Initial condition.\n",
    "    t : array_like\n",
    "        Time points for trajectory.\n",
    "    args : tuple, default ()\n",
    "        Additional arguments to be passed to f\n",
    "    n_grid : int, default 100\n",
    "        Number of grid points to use in computing\n",
    "        derivatives on phase portrait.\n",
    "        \n",
    "    Returns\n",
    "    -------\n",
    "    output : Matplotlib Axis instance\n",
    "        Axis with streamplot included.\n",
    "    \"\"\"\n",
    "    \n",
    "    y = scipy.integrate.odeint(f, y0, t, args=args)\n",
    "    ax.plot(*y.transpose(), color=color, lw=lw)\n",
    "    return ax"
   ]
  },
  {
   "cell_type": "markdown",
   "metadata": {},
   "source": [
    "# Interactivity"
   ]
  },
  {
   "cell_type": "code",
   "execution_count": 27,
   "metadata": {},
   "outputs": [],
   "source": [
    "%matplotlib widget"
   ]
  },
  {
   "cell_type": "code",
   "execution_count": 28,
   "metadata": {},
   "outputs": [
    {
     "data": {
      "application/vnd.jupyter.widget-view+json": {
       "model_id": "42eb2a74063f4cc2904698cefcfb5272",
       "version_major": 2,
       "version_minor": 0
      },
      "text/plain": [
       "Canvas(toolbar=Toolbar(toolitems=[('Home', 'Reset original view', 'home', 'home'), ('Back', 'Back to previous …"
      ]
     },
     "metadata": {},
     "output_type": "display_data"
    }
   ],
   "source": [
    "import warnings\n",
    "warnings.filterwarnings('ignore')\n",
    "\"\"\"\n",
    "===========\n",
    "Slider Demo\n",
    "===========\n",
    "\n",
    "Using the slider widget to control visual properties of your plot.\n",
    "\n",
    "In this example, a slider is used to choose the frequency of a sine\n",
    "wave. You can control many continuously-varying properties of your plot in\n",
    "this way.\n",
    "\"\"\"\n",
    "import matplotlib.pyplot as plt\n",
    "from matplotlib.widgets import Slider, Button, RadioButtons\n",
    "\n",
    "fig, ax = plt.subplots()\n",
    "plt.subplots_adjust(left=0.05, bottom=0.30)\n",
    "\n",
    "ax.set_xlabel('S1')\n",
    "ax.set_ylabel('S2')\n",
    "ax.set_aspect('equal')\n",
    "\n",
    "# Build the plot\n",
    "S1_range = [0, 1]\n",
    "S2_range = [0, 1]\n",
    "ax = plot_flow_field(ax, toggle, S1_range, S2_range, args=args)\n",
    "ax = plot_null_clines_toggle(ax, S1_range, S2_range, args)\n",
    "\n",
    "axcolor = 'lightgoldenrodyellow'\n",
    "ax_c = plt.axes([0.25, 0.05, 0.45, 0.03], facecolor=axcolor)\n",
    "ax_mu0 = plt.axes([0.25, 0.10, 0.45, 0.03], facecolor=axcolor)\n",
    "ax_w = plt.axes([0.25, 0.15, 0.45, 0.03], facecolor=axcolor)\n",
    "\n",
    "sc = Slider(ax_c, r'c', 0, 100.0, valinit=0, valstep=0.1)\n",
    "smu0 = Slider(ax_mu0, r'$\\mu_0$', 0, 90, valinit=10, valstep=1)\n",
    "sw = Slider(ax_w, r'$w$', 1.5, 1.9, valinit=1.59, valstep=0.01)\n",
    "\n",
    "def update(val):\n",
    "    global ax\n",
    "    ax.clear()\n",
    "    c = sc.val\n",
    "    mu0 = smu0.val\n",
    "    w = sw.val\n",
    "    args = (tau_s, gamma, a, b, w/1.59*J_N11, J_N12, J_N21, w/1.59*J_N22, I0, J_Aext, mu0, c)\n",
    "    ax = plot_flow_field(ax, toggle, S1_range, S2_range, args=args)\n",
    "    ax = plot_null_clines_toggle(ax, S1_range, S2_range, args)\n",
    "    fig.canvas.draw_idle()\n",
    "\n",
    "sc.on_changed(update)\n",
    "smu0.on_changed(update)\n",
    "sw.on_changed(update)\n",
    "\n",
    "plt.show()"
   ]
  },
  {
   "cell_type": "markdown",
   "metadata": {},
   "source": [
    "### Improvements :\n",
    "\n",
    "* FOR PRESENTATION : have a list of ready-made plots to outline key points\n",
    "\n",
    "* Delineate between stable and unstable fixed points : try the sign of derivative around points again\n",
    "* Better presentation : Python package and app?\n",
    "* More fluid :\n",
    "    * Change all functions to return points and not ax object?\n",
    "    * Precompute solutions and read from table?\n",
    "* For given c and w, add mu_0 bifurcation plot\n",
    "* Add noise option (time series added to toggle ODEs)\n",
    "* Eigendecomposition around fixed points for time constants\n",
    "* Click for trajectories"
   ]
  },
  {
   "cell_type": "code",
   "execution_count": null,
   "metadata": {},
   "outputs": [],
   "source": []
  }
 ],
 "metadata": {
  "kernelspec": {
   "display_name": "Python 3",
   "language": "python",
   "name": "python3"
  },
  "language_info": {
   "codemirror_mode": {
    "name": "ipython",
    "version": 3
   },
   "file_extension": ".py",
   "mimetype": "text/x-python",
   "name": "python",
   "nbconvert_exporter": "python",
   "pygments_lexer": "ipython3",
   "version": "3.6.8"
  }
 },
 "nbformat": 4,
 "nbformat_minor": 2
}
